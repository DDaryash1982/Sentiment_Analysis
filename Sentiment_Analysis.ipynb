{
 "cells": [
  {
   "cell_type": "code",
   "execution_count": 1,
   "id": "e2570ed4-47b4-47fa-9fd3-43d9f18a2ec3",
   "metadata": {},
   "outputs": [
    {
     "name": "stderr",
     "output_type": "stream",
     "text": [
      "[nltk_data] Downloading package punkt to\n",
      "[nltk_data]     C:\\Users\\senga\\AppData\\Roaming\\nltk_data...\n",
      "[nltk_data]   Package punkt is already up-to-date!\n",
      "[nltk_data] Downloading package stopwords to\n",
      "[nltk_data]     C:\\Users\\senga\\AppData\\Roaming\\nltk_data...\n",
      "[nltk_data]   Package stopwords is already up-to-date!\n",
      "[nltk_data] Downloading package wordnet to\n",
      "[nltk_data]     C:\\Users\\senga\\AppData\\Roaming\\nltk_data...\n",
      "[nltk_data]   Package wordnet is already up-to-date!\n",
      "[nltk_data] Downloading package punkt_tab to\n",
      "[nltk_data]     C:\\Users\\senga\\AppData\\Roaming\\nltk_data...\n",
      "[nltk_data]   Package punkt_tab is already up-to-date!\n"
     ]
    },
    {
     "data": {
      "text/plain": [
       "True"
      ]
     },
     "execution_count": 1,
     "metadata": {},
     "output_type": "execute_result"
    }
   ],
   "source": [
    "#pip install scikit_learn\n",
    "#pip install nltk\n",
    "#pip install pandas\n",
    "\n",
    "import nltk\n",
    "from nltk.tokenize import word_tokenize\n",
    "from nltk.corpus import stopwords\n",
    "from nltk.stem import WordNetLemmatizer\n",
    "from sklearn.feature_extraction.text import TfidfVectorizer\n",
    "from sklearn.ensemble import RandomForestClassifier\n",
    "from sklearn.model_selection import train_test_split\n",
    "from sklearn.metrics import accuracy_score\n",
    "import pandas as pd\n",
    "\n",
    "nltk.download('punkt')\n",
    "nltk.download('stopwords')\n",
    "nltk.download('wordnet')\n",
    "nltk.download('punkt_tab')"
   ]
  },
  {
   "cell_type": "code",
   "execution_count": 2,
   "id": "c828ff19-ae8c-4679-a32c-3888d2ebba27",
   "metadata": {},
   "outputs": [
    {
     "name": "stdout",
     "output_type": "stream",
     "text": [
      "['love going beach sunny day', 'food restaurant amazing', 'feel tired long day work', 'movie watched yesterday really boring', 'cat always make smile feeling']\n"
     ]
    }
   ],
   "source": [
    "database = [\n",
    "    \"I love going to the beach on sunny days.\",\n",
    "    \"The food at that restaurant was amazing!\",\n",
    "    \"I feel so tired after a long day at work.\",\n",
    "    \"The movie I watched yesterday was really boring.\",\n",
    "    \"My cat always makes me smile when I'm feeling down.\"\n",
    "]\n",
    "lemmatizer = WordNetLemmatizer()\n",
    "stop_words = set(stopwords.words('english'))\n",
    "tokenized_data = []\n",
    "\n",
    "for text in database:\n",
    "    tokens = word_tokenize(text)\n",
    "    filtered_tokens = [lemmatizer.lemmatize(token.lower()) for token in tokens if token.isalnum() and token.lower() not in stop_words]\n",
    "    tokenized_data.append(' '.join(filtered_tokens))\n",
    "print(tokenized_data)"
   ]
  },
  {
   "cell_type": "code",
   "execution_count": 3,
   "id": "f2a2c495-c9f7-4e3f-b935-24e2df159460",
   "metadata": {},
   "outputs": [
    {
     "name": "stdout",
     "output_type": "stream",
     "text": [
      "<Compressed Sparse Row sparse matrix of dtype 'float64'\n",
      "\twith 23 stored elements and shape (5, 22)>\n",
      "  Coords\tValues\n",
      "  (0, 11)\t0.4636932227319092\n",
      "  (0, 9)\t0.4636932227319092\n",
      "  (0, 2)\t0.4636932227319092\n",
      "  (0, 17)\t0.4636932227319092\n",
      "  (0, 5)\t0.3741047724501572\n",
      "  (1, 8)\t0.5773502691896258\n",
      "  (1, 15)\t0.5773502691896258\n",
      "  (1, 1)\t0.5773502691896258\n",
      "  (2, 5)\t0.3741047724501572\n",
      "  (2, 6)\t0.4636932227319092\n",
      "  (2, 18)\t0.4636932227319092\n",
      "  (2, 10)\t0.4636932227319092\n",
      "  (2, 20)\t0.4636932227319092\n",
      "  (3, 13)\t0.4472135954999579\n",
      "  (3, 19)\t0.4472135954999579\n",
      "  (3, 21)\t0.4472135954999579\n",
      "  (3, 14)\t0.4472135954999579\n",
      "  (3, 3)\t0.4472135954999579\n",
      "  (4, 4)\t0.4472135954999579\n",
      "  (4, 0)\t0.4472135954999579\n",
      "  (4, 12)\t0.4472135954999579\n",
      "  (4, 16)\t0.4472135954999579\n",
      "  (4, 7)\t0.4472135954999579\n"
     ]
    }
   ],
   "source": [
    "labels = [1, 1, 0, 0, 1] # 1- Positive, 0-Negative\n",
    "tfidf_vectorizer = TfidfVectorizer()\n",
    "X = tfidf_vectorizer.fit_transform(tokenized_data)\n",
    "print(X)\n",
    "X_train, X_test, y_train, y_test = train_test_split(X, labels, test_size=0.2, random_state=42)"
   ]
  },
  {
   "cell_type": "code",
   "execution_count": 4,
   "id": "f94ca6d6-d83a-4762-b04a-e90621e08c29",
   "metadata": {},
   "outputs": [
    {
     "name": "stdout",
     "output_type": "stream",
     "text": [
      "['Positive']\n",
      "Accuracy: 1.0\n"
     ]
    }
   ],
   "source": [
    "rf_classifier = RandomForestClassifier(n_estimators=100, random_state=42)\n",
    "rf_classifier.fit(X_train, y_train)\n",
    "y_pred = rf_classifier.predict(X_test)\n",
    "y_pred_series = pd.Series(y_pred)\n",
    "y_pred_labels = y_pred_series.map({1: 'Positive', 0: 'Negative'}).tolist()\n",
    "print(y_pred_labels)\n",
    "print(\"Accuracy:\", accuracy_score(y_test, y_pred))"
   ]
  }
 ],
 "metadata": {
  "kernelspec": {
   "display_name": "Python 3 (ipykernel)",
   "language": "python",
   "name": "python3"
  },
  "language_info": {
   "codemirror_mode": {
    "name": "ipython",
    "version": 3
   },
   "file_extension": ".py",
   "mimetype": "text/x-python",
   "name": "python",
   "nbconvert_exporter": "python",
   "pygments_lexer": "ipython3",
   "version": "3.10.14"
  }
 },
 "nbformat": 4,
 "nbformat_minor": 5
}
